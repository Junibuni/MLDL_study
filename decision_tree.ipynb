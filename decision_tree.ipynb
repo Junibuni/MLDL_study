{
 "cells": [
  {
   "cell_type": "code",
   "execution_count": 12,
   "metadata": {},
   "outputs": [],
   "source": [
    "import numpy as np\n",
    "import pandas as pd\n",
    "import graphviz\n",
    "import pydotplus\n",
    "\n",
    "from sklearn import tree, model_selection\n",
    "from sklearn.datasets import fetch_california_housing\n",
    "from sklearn.metrics import mean_absolute_error, mean_squared_error, accuracy_score, precision_score, recall_score, f1_score\n",
    "\n",
    "\n",
    "classification_data_path = './data/diabetes.csv'\n",
    "classification_feature_names = ['pregnant', 'glucose', 'bp', 'skin', 'insulin', 'bmi',  'pedigree', 'age',  'label']\n",
    "\n",
    "regression_data_info = fetch_california_housing()\n",
    "regression_feature_names = regression_data_info.feature_names\n",
    "\n",
    "test_data_ratio = 0.3\n",
    "\n",
    "random_state = 0\n",
    "\n",
    "max_depth = 3\n",
    "min_sample_leaf = 3"
   ]
  },
  {
   "cell_type": "code",
   "execution_count": 6,
   "metadata": {},
   "outputs": [
    {
     "name": "stdout",
     "output_type": "stream",
     "text": [
      "regression train data: (14448, 8)/regression train label: (14448,)\n",
      "regression test data: (6192, 8)/regressiontest label: (6192,)\n"
     ]
    }
   ],
   "source": [
    "class RegressionDataLoader:\n",
    "  def __init__(self, data_info, feature_names, test_data_ratio, random_state):\n",
    "    self.data_info = data_info\n",
    "    self.feature_names = feature_names\n",
    "    self.test_data_ratio = test_data_ratio\n",
    "    self.random_state = random_state\n",
    "\n",
    "    self.data_infos = self.get_data_infos()\n",
    "    self.data, self.label = self.get_dataset()\n",
    "\n",
    "    self.train_data, self.train_label, self.test_data, self.test_label = self.get_split_data()\n",
    "\n",
    "\n",
    "  def __call__(self, flag):\n",
    "    if flag == 'train':\n",
    "        return self.train_data, self.train_label\n",
    "    else:\n",
    "        return self.test_data, self.test_label\n",
    "\n",
    "  def get_data_infos(self):\n",
    "    df = pd.DataFrame(self.data_info.data, columns=self.feature_names)\n",
    "    df['label'] = self.data_info.target\n",
    "\n",
    "    return df\n",
    "\n",
    "  def get_dataset(self):\n",
    "    data, label = self.data_infos.drop(columns=['label']), self.data_infos['label']\n",
    "\n",
    "    return data, label\n",
    "\n",
    "  def get_split_data(self):\n",
    "    train_data, test_data, train_label, test_label = model_selection.train_test_split(\n",
    "        self.data, self.label, test_size=self.test_data_ratio, random_state = self.random_state\n",
    "    )\n",
    "    return train_data, train_label, test_data, test_label\n",
    "\n",
    "\n",
    "regression_dataloader = RegressionDataLoader(regression_data_info, regression_feature_names, test_data_ratio, random_state)\n",
    "regression_train_data, regression_train_label = regression_dataloader('train')\n",
    "regression_test_data, regression_test_label = regression_dataloader('test')\n",
    "\n",
    "print(f'regression train data: {regression_train_data.shape}/regression train label: {regression_train_label.shape}')\n",
    "print(f'regression test data: {regression_test_data.shape}/regressiontest label: {regression_test_label.shape}')"
   ]
  },
  {
   "cell_type": "code",
   "execution_count": 7,
   "metadata": {},
   "outputs": [
    {
     "name": "stdout",
     "output_type": "stream",
     "text": [
      "mse: 0.6658517935688688/mae: 0.6080882818493236\n"
     ]
    }
   ],
   "source": [
    "class SklearnDecisionTreeRegressor:\n",
    "  def __init__(self, feature_names, max_depth, min_sample_leaf, random_state):\n",
    "    self.feature_names = feature_names\n",
    "    self.max_depth = max_depth\n",
    "    self.min_sample_leaf = min_sample_leaf\n",
    "    self.random_state = random_state\n",
    "\n",
    "    self.regressor = tree.DecisionTreeRegressor(\n",
    "        max_depth=self.max_depth,\n",
    "        min_samples_leaf=self.min_sample_leaf,\n",
    "        random_state=self.random_state\n",
    "    )\n",
    "\n",
    "  def __call__(self, data):\n",
    "    return self.regressor.predict(data)\n",
    "\n",
    "  def train_model(self, train_data, train_label):\n",
    "      self.regressor.fit(train_data, train_label)\n",
    "\n",
    "  def test_model(self, test_data, test_label):\n",
    "    pred = self.regressor.predict(test_data)\n",
    "    mse = mean_squared_error(test_label, pred)\n",
    "    mae = mean_absolute_error(test_label, pred)\n",
    "\n",
    "    print(f'mse: {mse}/mae: {mae}')\n",
    "\n",
    "  def show_tree(self):\n",
    "    tree.plot_tree(self.regressor)\n",
    "\n",
    "  def show_customized_tree(self):\n",
    "    dot_data = tree.export_graphviz(\n",
    "        self.regressor,\n",
    "        out_file=None,\n",
    "        feature_names=self.feature_names,\n",
    "        class_names = ['label'],\n",
    "        filled=True,\n",
    "        rounded=True,\n",
    "        special_characters=True\n",
    "    )\n",
    "    graph = graphviz.Source(dot_data)\n",
    "    graph.view()\n",
    "\n",
    "sklearn_dt_regressor= SklearnDecisionTreeRegressor(regression_feature_names, max_depth, min_sample_leaf, random_state)\n",
    "sklearn_dt_regressor.train_model(regression_train_data, regression_train_label)\n",
    "sklearn_dt_regressor.test_model(regression_test_data, regression_test_label)"
   ]
  },
  {
   "cell_type": "code",
   "execution_count": 10,
   "metadata": {},
   "outputs": [
    {
     "data": {
      "image/png": "[encoded data removed]",
      "text/plain": [
       "<Figure size 640x480 with 1 Axes>"
      ]
     },
     "metadata": {},
     "output_type": "display_data"
    }
   ],
   "source": [
    "sklearn_dt_regressor.show_tree()\n",
    "#sklearn_dt_regressor.show_customized_tree()"
   ]
  },
  {
   "cell_type": "code",
   "execution_count": 13,
   "metadata": {},
   "outputs": [
    {
     "name": "stdout",
     "output_type": "stream",
     "text": [
      "classification train data: (537, 8)/classification train label: (537,)\n",
      "classification test data: (231, 8)/classification test label: (231,)\n"
     ]
    }
   ],
   "source": [
    "class BinomialClassificationDataLoader:\n",
    "  def __init__(self, path, feature_names, test_data_ratio, random_state):\n",
    "    self.data_path = path\n",
    "    self.feature_names = feature_names\n",
    "    self.test_data_ratio = test_data_ratio\n",
    "    self.random_state = random_state\n",
    "\n",
    "    self.csv_infos = self.get_csv_infos()\n",
    "    self.csv_data, self.csv_label = self.get_csv_dataset()\n",
    "    self.train_data, self.train_label, self.test_data, self.test_label = self.get_split_data()\n",
    "\n",
    "  def __call__(self, flag):\n",
    "    if flag == 'train':\n",
    "      return self.train_data, self.train_label\n",
    "    elif flag == 'test':\n",
    "      return self.test_data, self.test_label\n",
    "\n",
    "  def get_csv_infos(self):\n",
    "    df = pd.read_csv(self.data_path, header=None).drop([0], axis=0)\n",
    "    df.columns = self.feature_names\n",
    "\n",
    "    return df\n",
    "\n",
    "  def get_csv_dataset(self):\n",
    "    data, label = self.csv_infos[self.feature_names[:-1]], self.csv_infos[self.feature_names[-1]].astype(int)\n",
    "\n",
    "    return data, label\n",
    "\n",
    "  def get_split_data(self):\n",
    "    train_data, test_data, train_label, test_label = model_selection.train_test_split(\n",
    "        self.csv_data, self.csv_label, test_size=self.test_data_ratio, random_state = self.random_state\n",
    "    )\n",
    "    return train_data, train_label, test_data, test_label\n",
    "\n",
    "\n",
    "classification_dataloader = BinomialClassificationDataLoader(classification_data_path, classification_feature_names, test_data_ratio, random_state)\n",
    "classification_train_data, classification_train_label = classification_dataloader('train')\n",
    "classification_test_data, classification_test_label = classification_dataloader('test')\n",
    "\n",
    "print(f'classification train data: {classification_train_data.shape}/classification train label: {classification_train_label.shape}')\n",
    "print(f'classification test data: {classification_test_data.shape}/classification test label: {classification_test_label.shape}')"
   ]
  },
  {
   "cell_type": "code",
   "execution_count": 14,
   "metadata": {},
   "outputs": [
    {
     "name": "stdout",
     "output_type": "stream",
     "text": [
      "acc: 0.7272727272727273/precision: 0.6486486486486487/recall: 0.32432432432432434/f1-measure: 0.43243243243243246\n"
     ]
    }
   ],
   "source": [
    "class SklearnDecisionTreeClassifier:\n",
    "  def __init__(self, feature_names, max_depth, min_sample_leaf, random_state):\n",
    "    self.feature_names = feature_names\n",
    "    self.max_depth = max_depth\n",
    "    self.min_sample_leaf = min_sample_leaf\n",
    "    self.random_state = random_state\n",
    "\n",
    "    self.classifier = tree.DecisionTreeClassifier(\n",
    "        max_depth=self.max_depth,\n",
    "        min_samples_leaf=self.min_sample_leaf,\n",
    "        random_state=self.random_state\n",
    "    )\n",
    "\n",
    "  def __call__(self, data):\n",
    "    return self.classifier.predict(data)\n",
    "\n",
    "  def train_model(self, train_data, train_label):\n",
    "      self.classifier.fit(train_data, train_label)\n",
    "\n",
    "  def test_model(self, test_data, test_label):\n",
    "\n",
    "    pred = self.classifier.predict(test_data)\n",
    "    accuracy = accuracy_score(test_label, pred)\n",
    "    precision = precision_score(test_label, pred)\n",
    "    recall = recall_score(test_label, pred)\n",
    "    f1_measure = f1_score(test_label, pred)\n",
    "\n",
    "    print(f'acc: {accuracy}/precision: {precision}/recall: {recall}/f1-measure: {f1_measure}')\n",
    "\n",
    "  def show_tree(self):\n",
    "    tree.plot_tree(self.classifier)\n",
    "\n",
    "  def show_customized_tree(self):\n",
    "    dot_data = tree.export_graphviz(\n",
    "        self.classifier,\n",
    "        out_file=None,\n",
    "        feature_names=self.feature_names[:-1],\n",
    "        class_names = ['0', '1'],\n",
    "        filled=True,\n",
    "        rounded=True,\n",
    "        special_characters=True\n",
    "    )\n",
    "    graph = graphviz.Source(dot_data)\n",
    "    graph.view()\n",
    "\n",
    "sklearn_dt_classifier = SklearnDecisionTreeClassifier(classification_feature_names, max_depth, min_sample_leaf, random_state)\n",
    "sklearn_dt_classifier.train_model(classification_train_data, classification_train_label)\n",
    "sklearn_dt_classifier.test_model(classification_test_data, classification_test_label)\n"
   ]
  },
  {
   "cell_type": "code",
   "execution_count": null,
   "metadata": {},
   "outputs": [],
   "source": []
  }
 ],
 "metadata": {
  "kernelspec": {
   "display_name": "venv",
   "language": "python",
   "name": "python3"
  },
  "language_info": {
   "codemirror_mode": {
    "name": "ipython",
    "version": 3
   },
   "file_extension": ".py",
   "mimetype": "text/x-python",
   "name": "python",
   "nbconvert_exporter": "python",
   "pygments_lexer": "ipython3",
   "version": "3.11.4"
  }
 },
 "nbformat": 4,
 "nbformat_minor": 2
}
